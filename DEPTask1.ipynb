{
 "cells": [
  {
   "cell_type": "markdown",
   "id": "1a4dd1d6-c86b-4f40-beb0-748b5873aa70",
   "metadata": {},
   "source": [
    "## Importing necessary libraries"
   ]
  },
  {
   "cell_type": "code",
   "execution_count": 1,
   "id": "8d23b964-8e65-4fbb-aab9-1900553680b9",
   "metadata": {},
   "outputs": [],
   "source": [
    "import pandas as pd\n",
    "import numpy as np\n",
    "from sklearn.model_selection import train_test_split\n",
    "from sklearn.preprocessing import StandardScaler, LabelEncoder\n",
    "from sklearn.impute import SimpleImputer\n",
    "from sklearn.pipeline import Pipeline\n",
    "from sklearn.linear_model import LinearRegression\n",
    "from sklearn.ensemble import RandomForestRegressor\n",
    "from sklearn.ensemble import GradientBoostingRegressor\n",
    "from sklearn.metrics import mean_absolute_error, mean_squared_error, r2_score"
   ]
  },
  {
   "cell_type": "markdown",
   "id": "b6d7c1e2-611e-4a1e-bbf6-f810d213bafa",
   "metadata": {},
   "source": [
    "## Data Cleaning And Preprocessing"
   ]
  },
  {
   "cell_type": "markdown",
   "id": "105464c0-520f-47a9-8719-ef6f6c39d202",
   "metadata": {},
   "source": [
    "### Loading the dataset"
   ]
  },
  {
   "cell_type": "code",
   "execution_count": 2,
   "id": "b4b3d5d0-bc72-47d4-8038-7855240f21d5",
   "metadata": {},
   "outputs": [],
   "source": [
    "df = pd.read_csv('csvdata.csv')"
   ]
  },
  {
   "cell_type": "markdown",
   "id": "f62e4d85-bfc3-4be5-9cbb-6d39a8a794f3",
   "metadata": {},
   "source": [
    "### Displaying Data and info"
   ]
  },
  {
   "cell_type": "code",
   "execution_count": 4,
   "id": "b29a1ab3-6ed2-491b-81f4-5a66036c12fb",
   "metadata": {},
   "outputs": [
    {
     "name": "stdout",
     "output_type": "stream",
     "text": [
      "   Unnamed: 0       City     Price  Area                         Location  \\\n",
      "0           0  Bangalore  30000000  3340                 JP Nagar Phase 1   \n",
      "1           1  Bangalore   7888000  1045       Dasarahalli on Tumkur Road   \n",
      "2           2  Bangalore   4866000  1179  Kannur on Thanisandra Main Road   \n",
      "3           3  Bangalore   8358000  1675                     Doddanekundi   \n",
      "4           4  Bangalore   6845000  1670                          Kengeri   \n",
      "\n",
      "   No. of Bedrooms  \n",
      "0                4  \n",
      "1                2  \n",
      "2                2  \n",
      "3                3  \n",
      "4                3  \n",
      "<class 'pandas.core.frame.DataFrame'>\n",
      "RangeIndex: 29135 entries, 0 to 29134\n",
      "Data columns (total 6 columns):\n",
      " #   Column           Non-Null Count  Dtype \n",
      "---  ------           --------------  ----- \n",
      " 0   Unnamed: 0       29135 non-null  int64 \n",
      " 1   City             29135 non-null  object\n",
      " 2   Price            29135 non-null  int64 \n",
      " 3   Area             29135 non-null  int64 \n",
      " 4   Location         29135 non-null  object\n",
      " 5   No. of Bedrooms  29135 non-null  int64 \n",
      "dtypes: int64(4), object(2)\n",
      "memory usage: 1.3+ MB\n",
      "None\n"
     ]
    }
   ],
   "source": [
    "print(df.head())\n",
    "print(df.info())"
   ]
  },
  {
   "cell_type": "markdown",
   "id": "1304037a-4e13-4ace-afef-cfbe2eccc3ec",
   "metadata": {},
   "source": [
    "### Checking for null values"
   ]
  },
  {
   "cell_type": "code",
   "execution_count": 5,
   "id": "837bc991-7928-4704-8d82-4730a903bad4",
   "metadata": {},
   "outputs": [
    {
     "name": "stdout",
     "output_type": "stream",
     "text": [
      "Unnamed: 0         0\n",
      "City               0\n",
      "Price              0\n",
      "Area               0\n",
      "Location           0\n",
      "No. of Bedrooms    0\n",
      "dtype: int64\n"
     ]
    }
   ],
   "source": [
    "# Check for missing values\n",
    "print(df.isnull().sum())"
   ]
  },
  {
   "cell_type": "markdown",
   "id": "bd039218-950c-4fbc-a331-04d62ccaea23",
   "metadata": {},
   "source": [
    "### Spliting dataset into X and Y"
   ]
  },
  {
   "cell_type": "code",
   "execution_count": 7,
   "id": "f79b9952-2b26-4528-b9dd-dfeaef1c2fff",
   "metadata": {},
   "outputs": [
    {
     "name": "stdout",
     "output_type": "stream",
     "text": [
      "Values of X:\n",
      "        Unnamed: 0       City  Area                         Location  \\\n",
      "0               0  Bangalore  3340                 JP Nagar Phase 1   \n",
      "1               1  Bangalore  1045       Dasarahalli on Tumkur Road   \n",
      "2               2  Bangalore  1179  Kannur on Thanisandra Main Road   \n",
      "3               3  Bangalore  1675                     Doddanekundi   \n",
      "4               4  Bangalore  1670                          Kengeri   \n",
      "...           ...        ...   ...                              ...   \n",
      "29130        7714     Mumbai  1180                   Mira Road East   \n",
      "29131        7715     Mumbai   530                     Naigaon East   \n",
      "29132        7716     Mumbai   700                         Shirgaon   \n",
      "29133        7717     Mumbai   995                   Mira Road East   \n",
      "29134        7718     Mumbai  1020                   Mira Road East   \n",
      "\n",
      "       No. of Bedrooms  \n",
      "0                    4  \n",
      "1                    2  \n",
      "2                    2  \n",
      "3                    3  \n",
      "4                    3  \n",
      "...                ...  \n",
      "29130                2  \n",
      "29131                1  \n",
      "29132                1  \n",
      "29133                2  \n",
      "29134                2  \n",
      "\n",
      "[29135 rows x 5 columns]\n",
      "\n",
      "\n",
      " Values of Y:\n",
      " 0        30000000\n",
      "1         7888000\n",
      "2         4866000\n",
      "3         8358000\n",
      "4         6845000\n",
      "           ...   \n",
      "29130    14500000\n",
      "29131    14500000\n",
      "29132     4100000\n",
      "29133     2750000\n",
      "29134     2750000\n",
      "Name: Price, Length: 29135, dtype: int64\n"
     ]
    }
   ],
   "source": [
    "# Separate features and target variable\n",
    "X = df.drop(['Price'], axis=1)\n",
    "y = df['Price']\n",
    "print ('Values of X:\\n',X)\n",
    "print ('\\n\\n Values of Y:\\n',y)"
   ]
  },
  {
   "cell_type": "markdown",
   "id": "7af3359b-77e0-4c4f-9d56-8559fd0878e3",
   "metadata": {},
   "source": [
    "### Data Preprocessing"
   ]
  },
  {
   "cell_type": "code",
   "execution_count": 9,
   "id": "175319b5-6291-4b0a-9751-adb2673453e8",
   "metadata": {},
   "outputs": [
    {
     "name": "stdout",
     "output_type": "stream",
     "text": [
      "   Unnamed: 0  City      Area  Location  No. of Bedrooms\n",
      "0           0     0  2.654406       595         1.923170\n",
      "1           1     0 -0.334462       374        -0.512879\n",
      "2           2     0 -0.159949       698        -0.512879\n",
      "3           3     0  0.486012       398         0.705146\n",
      "4           4     0  0.479500       731         0.705146\n"
     ]
    }
   ],
   "source": [
    "# Handle missing values and preprocess data\n",
    "numeric_features = ['Area', 'No. of Bedrooms']\n",
    "categorical_features = ['City', 'Location']\n",
    "\n",
    "numeric_transformer = Pipeline(steps=[\n",
    "    ('imputer', SimpleImputer(strategy='median')),\n",
    "    ('scaler', StandardScaler())\n",
    "])\n",
    "\n",
    "# Apply transformations to numeric features\n",
    "X[numeric_features] = numeric_transformer.fit_transform(X[numeric_features])\n",
    "\n",
    "# Label encoding for categorical features\n",
    "label_encoders = {}\n",
    "for feature in categorical_features:\n",
    "    le = LabelEncoder()\n",
    "    X[feature] = le.fit_transform(X[feature])\n",
    "    label_encoders[feature] = le\n",
    "\n",
    "# Verify the transformations\n",
    "print(X.head())"
   ]
  },
  {
   "cell_type": "markdown",
   "id": "463cc272-a47f-45d6-af0a-519626343e11",
   "metadata": {},
   "source": [
    "## Model Training"
   ]
  },
  {
   "cell_type": "markdown",
   "id": "0488649d-e120-4b53-bb6e-25ac672741d1",
   "metadata": {},
   "source": [
    "### Spliting data into train set and test set"
   ]
  },
  {
   "cell_type": "code",
   "execution_count": 10,
   "id": "3ed92569-f636-4dfb-b9ce-0dbd36b4ef26",
   "metadata": {},
   "outputs": [],
   "source": [
    "# Split the data into training and testing sets\n",
    "X_train, X_test, y_train, y_test = train_test_split(X, y, test_size=0.2, random_state=42)"
   ]
  },
  {
   "cell_type": "markdown",
   "id": "0f728d2d-2244-4760-8a30-bbb46d9c925f",
   "metadata": {},
   "source": [
    "### Linear Regression"
   ]
  },
  {
   "cell_type": "code",
   "execution_count": 11,
   "id": "a5cedb5e-2378-4af0-b585-6208c499c269",
   "metadata": {},
   "outputs": [],
   "source": [
    "# Train the model\n",
    "linear_model = LinearRegression()\n",
    "linear_model.fit(X_train, y_train)\n",
    "\n",
    "# Predict on the test set\n",
    "y_pred_linear = linear_model.predict(X_test)"
   ]
  },
  {
   "cell_type": "markdown",
   "id": "960c737c-ed46-434a-90cb-a67e65582db7",
   "metadata": {},
   "source": [
    "### Random Forest Regressor"
   ]
  },
  {
   "cell_type": "code",
   "execution_count": 12,
   "id": "dfacf672-425f-4baa-a527-e49673f4fc0b",
   "metadata": {},
   "outputs": [],
   "source": [
    "# Train a Random Forest model\n",
    "rf_model = RandomForestRegressor(random_state=42)\n",
    "rf_model.fit(X_train, y_train)\n",
    "\n",
    "# Predict on the test set with the Random Forest model\n",
    "y_pred_rf = rf_model.predict(X_test)"
   ]
  },
  {
   "cell_type": "markdown",
   "id": "8f393d90-1e8c-4acb-a1ef-dc65bce9ec4e",
   "metadata": {},
   "source": [
    "### Gradient Boosting Regressor"
   ]
  },
  {
   "cell_type": "code",
   "execution_count": 13,
   "id": "d309c8fd-2877-4bf9-9f82-1c55164fafac",
   "metadata": {},
   "outputs": [],
   "source": [
    "# Train a Gradient Boosting model\n",
    "gb_model = GradientBoostingRegressor(random_state=42)\n",
    "gb_model.fit(X_train, y_train)\n",
    "\n",
    "# Predict on the test set with the Gradient Boosting model\n",
    "y_pred_gb = gb_model.predict(X_test)"
   ]
  },
  {
   "cell_type": "markdown",
   "id": "1ecae863-ba61-4d90-82c4-9503d5499b8f",
   "metadata": {},
   "source": [
    "## Model Evaluation And Fine Tunning"
   ]
  },
  {
   "cell_type": "markdown",
   "id": "5d78cf66-df6f-4867-b75a-63b94b191459",
   "metadata": {},
   "source": [
    "### Evaluating Linear Regression"
   ]
  },
  {
   "cell_type": "code",
   "execution_count": 14,
   "id": "4b9df6f1-824b-4808-a23e-1595d9badf50",
   "metadata": {},
   "outputs": [
    {
     "name": "stdout",
     "output_type": "stream",
     "text": [
      "Linear Regression - Mean Absolute Error: 8579466.740569286\n",
      "Linear Regression - Mean Squared Error: 703275791086038.1\n",
      "Linear Regression - R-squared: 0.052475605527863345\n"
     ]
    }
   ],
   "source": [
    "# Evaluate Linear Regression model\n",
    "mae_linear = mean_absolute_error(y_test, y_pred_linear)\n",
    "mse_linear = mean_squared_error(y_test, y_pred_linear)\n",
    "r2_linear = r2_score(y_test, y_pred_linear)\n",
    "\n",
    "print(f\"Linear Regression - Mean Absolute Error: {mae_linear}\")\n",
    "print(f\"Linear Regression - Mean Squared Error: {mse_linear}\")\n",
    "print(f\"Linear Regression - R-squared: {r2_linear}\")"
   ]
  },
  {
   "cell_type": "markdown",
   "id": "8cf84e56-47e0-44ba-b4f8-7c747e84d7e9",
   "metadata": {},
   "source": [
    "### Evaluating Random Forest Regressor"
   ]
  },
  {
   "cell_type": "code",
   "execution_count": 15,
   "id": "0755ea0d-c66f-4713-a2df-11f132c04616",
   "metadata": {},
   "outputs": [
    {
     "name": "stdout",
     "output_type": "stream",
     "text": [
      "Random Forest - Mean Absolute Error: 7454872.957259311\n",
      "Random Forest - Mean Squared Error: 669742602080774.2\n",
      "Random Forest - R-squared: 0.09765491499601087\n"
     ]
    }
   ],
   "source": [
    "# Evaluate Random Forest model\n",
    "mae_rf = mean_absolute_error(y_test, y_pred_rf)\n",
    "mse_rf = mean_squared_error(y_test, y_pred_rf)\n",
    "r2_rf = r2_score(y_test, y_pred_rf)\n",
    "\n",
    "print(f\"Random Forest - Mean Absolute Error: {mae_rf}\")\n",
    "print(f\"Random Forest - Mean Squared Error: {mse_rf}\")\n",
    "print(f\"Random Forest - R-squared: {r2_rf}\")"
   ]
  },
  {
   "cell_type": "markdown",
   "id": "12323ff6-7414-4fee-8f11-4600ca6a6c10",
   "metadata": {},
   "source": [
    "### Evaluating Gradient Boosting Regressor"
   ]
  },
  {
   "cell_type": "code",
   "execution_count": 16,
   "id": "01256d63-47f7-4902-93be-37ad96b99a53",
   "metadata": {},
   "outputs": [
    {
     "name": "stdout",
     "output_type": "stream",
     "text": [
      "Gradient Boosting - Mean Absolute Error: 7959380.515222927\n",
      "Gradient Boosting - Mean Squared Error: 715306314890397.2\n",
      "Gradient Boosting - R-squared: 0.03626686504881926\n"
     ]
    }
   ],
   "source": [
    "# Evaluate Gradient Boosting model\n",
    "mae_gb = mean_absolute_error(y_test, y_pred_gb)\n",
    "mse_gb = mean_squared_error(y_test, y_pred_gb)\n",
    "r2_gb = r2_score(y_test, y_pred_gb)\n",
    "\n",
    "print(f\"Gradient Boosting - Mean Absolute Error: {mae_gb}\")\n",
    "print(f\"Gradient Boosting - Mean Squared Error: {mse_gb}\")\n",
    "print(f\"Gradient Boosting - R-squared: {r2_gb}\")"
   ]
  }
 ],
 "metadata": {
  "kernelspec": {
   "display_name": "Python 3 (ipykernel)",
   "language": "python",
   "name": "python3"
  },
  "language_info": {
   "codemirror_mode": {
    "name": "ipython",
    "version": 3
   },
   "file_extension": ".py",
   "mimetype": "text/x-python",
   "name": "python",
   "nbconvert_exporter": "python",
   "pygments_lexer": "ipython3",
   "version": "3.8.18"
  }
 },
 "nbformat": 4,
 "nbformat_minor": 5
}
